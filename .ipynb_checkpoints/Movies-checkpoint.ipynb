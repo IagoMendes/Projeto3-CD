{
 "cells": [
  {
   "cell_type": "markdown",
   "metadata": {},
   "source": [
    "# Projeto Ciencia dos Dados\n",
    "## Cluesterização de filmes recomendados\n",
    "\n",
    "#### Vitor Satyro, Iago Mendes, Gabriel Ligeiro\n",
    "\n",
    "\n",
    "- Hieraquica Cluster   http://www.dummies.com/programming/big-data/data-science/data-science-performing-hierarchical-clustering-with-python/\n",
    "\n",
    "- Kmean Cluster https://datascience.stackexchange.com/questions/16700/confused-about-how-to-apply-kmeans-on-my-a-dataset-with-features-extracted\n",
    "\n",
    "- Kmean Cluster2 https://stackoverflow.com/questions/28017091/will-pandas-dataframe-object-work-with-sklearn-kmeans-clustering\n",
    "\n",
    "- Todos os tipos de Clusters http://scikit-learn.org/stable/modules/clustering.html\n",
    "\n",
    "- Livro postado pelo Miranda: Kmeans - https://jakevdp.github.io/PythonDataScienceHandbook/05.11-k-means.html"
   ]
  },
  {
   "cell_type": "code",
   "execution_count": 1,
   "metadata": {
    "collapsed": true
   },
   "outputs": [],
   "source": [
    "import pandas as pd\n",
    "from scipy import stats\n",
    "from math import *\n",
    "import numpy as np\n",
    "from sklearn.cluster import *\n",
    "import matplotlib.pyplot as plt\n",
    "import seaborn as sns\n",
    "from sklearn.cluster import KMeans\n",
    "from collections import Counter\n",
    "from mpl_toolkits.mplot3d import Axes3D\n",
    "from matplotlib import style\n",
    "style.use(\"ggplot\")\n",
    "from pylab import *\n",
    "\n",
    "%matplotlib inline"
   ]
  },
  {
   "cell_type": "code",
   "execution_count": 2,
   "metadata": {},
   "outputs": [
    {
     "name": "stderr",
     "output_type": "stream",
     "text": [
      "C:\\Users\\vitor\\Anaconda3\\lib\\site-packages\\IPython\\core\\interactiveshell.py:2717: DtypeWarning: Columns (10) have mixed types. Specify dtype option on import or set low_memory=False.\n",
      "  interactivity=interactivity, compiler=compiler, result=result)\n"
     ]
    }
   ],
   "source": [
    "df = pd.read_csv('Dataset/movies_metadata.csv')"
   ]
  },
  {
   "cell_type": "code",
   "execution_count": 3,
   "metadata": {
    "collapsed": true
   },
   "outputs": [],
   "source": [
    "#Pegar colunas especificas\n",
    "colunas = [\"popularity\",\"runtime\",\"vote_average\",\"vote_count\"]\n",
    "df_ = df[colunas]"
   ]
  },
  {
   "cell_type": "code",
   "execution_count": 4,
   "metadata": {
    "collapsed": true,
    "scrolled": true
   },
   "outputs": [],
   "source": [
    "#Escolher 4000 colunas aleatorias para um novo dataset\n",
    "n = 4000\n",
    "df2 = df_.loc[np.random.choice(df_.index,size=n),:]\n",
    "\n",
    "df3 = df2.dropna()\n"
   ]
  },
  {
   "cell_type": "code",
   "execution_count": 5,
   "metadata": {},
   "outputs": [
    {
     "name": "stderr",
     "output_type": "stream",
     "text": [
      "C:\\Users\\vitor\\Anaconda3\\lib\\site-packages\\pandas\\core\\indexing.py:517: SettingWithCopyWarning: \n",
      "A value is trying to be set on a copy of a slice from a DataFrame.\n",
      "Try using .loc[row_indexer,col_indexer] = value instead\n",
      "\n",
      "See the caveats in the documentation: http://pandas.pydata.org/pandas-docs/stable/indexing.html#indexing-view-versus-copy\n",
      "  self.obj[item] = s\n",
      "C:\\Users\\vitor\\Anaconda3\\lib\\site-packages\\pandas\\core\\indexing.py:601: SettingWithCopyWarning: \n",
      "A value is trying to be set on a copy of a slice from a DataFrame.\n",
      "Try using .loc[row_indexer,col_indexer] = value instead\n",
      "\n",
      "See the caveats in the documentation: http://pandas.pydata.org/pandas-docs/stable/indexing.html#indexing-view-versus-copy\n",
      "  self.obj[item_labels[indexer[info_axis]]] = value\n"
     ]
    }
   ],
   "source": [
    "for c in colunas:\n",
    "    df3.loc[:,c] = pd.to_numeric(df3.loc[:,c])\n",
    "    \n"
   ]
  },
  {
   "cell_type": "code",
   "execution_count": null,
   "metadata": {},
   "outputs": [],
   "source": []
  },
  {
   "cell_type": "code",
   "execution_count": null,
   "metadata": {},
   "outputs": [],
   "source": [
    "#Cluster the data\n",
    "std = stats.zscore(df3)\n",
    "kmeans = KMeans(n_clusters=3, random_state=0).fit(std)\n",
    "labels = kmeans.labels_\n",
    "\n",
    "#Glue back to originaal data\n",
    "df3['clusters'] = labels\n",
    "\n",
    "#Add the column into our list\n",
    "colunas.extend(['clusters'])\n",
    "df4 = df3[colunas]\n",
    "\n",
    "#Lets analyze the clusters\n",
    "print (df4.groupby('clusters').mean())"
   ]
  },
  {
   "cell_type": "code",
   "execution_count": null,
   "metadata": {},
   "outputs": [],
   "source": [
    "from scipy import cluster\n",
    "\n",
    "initial = [cluster.vq.kmeans(df4,i) for i in range(1,10)]\n",
    "plt.plot([var for (cent,var) in initial])\n",
    "plt.title(\"valor de K\")\n",
    "plt.show()\n",
    "\n",
    "print(\"plot variancia de k entre 1,10\")"
   ]
  },
  {
   "cell_type": "code",
   "execution_count": null,
   "metadata": {
    "scrolled": false
   },
   "outputs": [],
   "source": [
    "#Plotting popularity / runtime\n",
    "\n",
    "sns.lmplot('popularity', 'runtime', \n",
    "           data=df4, \n",
    "           fit_reg=False, \n",
    "           hue=\"clusters\",  \n",
    "           scatter_kws={\"marker\": \"D\", \n",
    "                        \"s\": 100})\n",
    "plt.title('Popularity vs Run Time')\n",
    "plt.axis([-5,50,-10,600])\n",
    "plt.xlabel('Popularity')\n",
    "plt.ylabel('Run Time')\n",
    "\n",
    "#Plotting popularity / vote_average\n",
    "\n",
    "sns.lmplot('popularity', 'vote_average', \n",
    "           data=df4, \n",
    "           fit_reg=False, \n",
    "           hue=\"clusters\",  \n",
    "           scatter_kws={\"marker\": \"D\", \n",
    "                        \"s\": 100})\n",
    "plt.title('Popularity vs Vote Average')\n",
    "plt.axis([-5,50,-1,11])\n",
    "plt.xlabel('Popularity')\n",
    "plt.ylabel('Vote Average')\n",
    "\n",
    "\n",
    "#Plotting runtime / vote_average\n",
    "\n",
    "sns.lmplot('runtime', 'vote_average', \n",
    "           data=df4, \n",
    "           fit_reg=False, \n",
    "           hue=\"clusters\",  \n",
    "           scatter_kws={\"marker\": \"D\", \n",
    "                        \"s\": 100})\n",
    "plt.title('Run Time vs Vote Average')\n",
    "plt.xlabel('Run Time')\n",
    "plt.ylabel('Vote Average')\n"
   ]
  },
  {
   "cell_type": "code",
   "execution_count": null,
   "metadata": {},
   "outputs": [],
   "source": [
    "from matplotlib import style\n",
    "style.use(\"ggplot\")\n",
    "from collections import Counter\n",
    "from mpl_toolkits.mplot3d import Axes3D\n",
    "from pylab import *\n",
    "from sklearn.decomposition import PCA\n",
    "\n",
    "#X = np.array([[1, 2, 5],\n",
    "#               [5, 8, 2],\n",
    "#               [1.5, 1.8, 6],\n",
    "#               [8, 8, 9],\n",
    "#               [1, 0.6, 10],\n",
    "#               [2.5, 3.8, 6],\n",
    "#               [2.5, 5.8, 9],\n",
    "#              [5, 8, 3],\n",
    "#               [4, 0.6, 7],\n",
    "#               [2.5, 1.8, 4.6],\n",
    "#               [6.5, 1.8, 12],\n",
    "#               [7, 8, 9],\n",
    "#              [2, 0.6, 7],\n",
    "#               [5.5, 1.8, 4],\n",
    "#               [4.8, 6.9, 6],\n",
    "#               [4.9, 9.8, 2],\n",
    "#               [9, 11, 12]])\n",
    "\n",
    "Array = np.array(df4)\n",
    "pca = PCA(n_components=3)\n",
    "pca.fit(Array)\n",
    "\n",
    "Xa = pca.transform(Array)\n",
    "X = Xa\n",
    "\n",
    "cluster_num = 3\n",
    "\n",
    "kmeans = KMeans(n_clusters=cluster_num)\n",
    "kmeans.fit(X)\n",
    "\n",
    "centroids = kmeans.cluster_centers_\n",
    "labels = kmeans.labels_\n",
    "\n",
    "# print (\"centroids : \",centroids)\n",
    "\n",
    "# print (\"labels : \", labels)\n",
    "\n",
    "\n",
    "colors = [\"g\",\"r\",\"c\"]\n",
    "\n",
    "color = np.random.rand(cluster_num)\n",
    "\n",
    "c = Counter(labels)\n",
    "\n",
    "\n",
    "fig = figure()\n",
    "ax = fig.gca(projection='3d')\n",
    "\n",
    "\n",
    "for i in range(len(X)):\n",
    "#     print(\"coordinate:\",X[i], \"label:\", labels[i])\n",
    "#     print (\"i : \",i)\n",
    "#     print (\"color[labels[i]] : \",color[labels[i]])\n",
    "    ax.scatter(X[i][0], X[i][1], X[i][2], c=colors[labels[i]]) #color[labels[i]]\n",
    "\n",
    "\n",
    "for cluster_number in range(cluster_num):\n",
    "    print(\"Cluster {} contains {} samples\".format(cluster_number, c[cluster_number]))\n",
    "\n",
    "ax.scatter(centroids[:, 0],centroids[:, 1], centroids[:, 2], marker = \"x\", s=150, linewidths = 5, zorder = 100, c=color)\n",
    "\n",
    "plt.show()"
   ]
  },
  {
   "cell_type": "code",
   "execution_count": null,
   "metadata": {
    "collapsed": true
   },
   "outputs": [],
   "source": [
    "n = 7000\n",
    "df2 = df.loc[np.random.choice(df_.index,size=n),:]\n",
    "df2.budget.index"
   ]
  }
 ],
 "metadata": {
  "kernelspec": {
   "display_name": "Python 3",
   "language": "python",
   "name": "python3"
  },
  "language_info": {
   "codemirror_mode": {
    "name": "ipython",
    "version": 3
   },
   "file_extension": ".py",
   "mimetype": "text/x-python",
   "name": "python",
   "nbconvert_exporter": "python",
   "pygments_lexer": "ipython3",
   "version": "3.6.1"
  }
 },
 "nbformat": 4,
 "nbformat_minor": 2
}
