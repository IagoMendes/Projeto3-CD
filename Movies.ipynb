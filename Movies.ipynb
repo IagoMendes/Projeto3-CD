{
 "cells": [
  {
   "cell_type": "markdown",
   "metadata": {},
   "source": [
    "# Projeto Ciencia dos Dados\n",
    "## Cluesterização de filmes recomendados\n",
    "\n",
    "#### Vitor Satyro, Iago Mendes, Gabriel Ligeiro"
   ]
  },
  {
   "cell_type": "code",
   "execution_count": 1,
   "metadata": {
    "collapsed": true
   },
   "outputs": [],
   "source": [
    "import pandas as pd\n",
    "from scipy.stats import *\n",
    "from math import *\n",
    "from cmath import *"
   ]
  },
  {
   "cell_type": "code",
   "execution_count": 2,
   "metadata": {},
   "outputs": [
    {
     "name": "stderr",
     "output_type": "stream",
     "text": [
      "C:\\Users\\vitor\\Anaconda3\\lib\\site-packages\\IPython\\core\\interactiveshell.py:2717: DtypeWarning: Columns (10) have mixed types. Specify dtype option on import or set low_memory=False.\n",
      "  interactivity=interactivity, compiler=compiler, result=result)\n"
     ]
    }
   ],
   "source": [
    "MD = pd.read_csv(\"Dataset/movies_metadata.csv\")\n",
    "RS = pd.read_csv(\"Dataset/ratings_small.csv\")"
   ]
  },
  {
   "cell_type": "code",
   "execution_count": 3,
   "metadata": {
    "collapsed": true
   },
   "outputs": [],
   "source": [
    "MD = MD.drop(\"video\",1)\n",
    "MD = MD.drop(\"tagline\",1)\n",
    "MD = MD.drop(\"revenue\",1)\n",
    "MD = MD.drop(\"homepage\",1)\n",
    "MD = MD.drop(\"belongs_to_collection\",1)\n",
    "MD = MD.drop(\"overview\",1)\n",
    "MD = MD.drop(\"poster_path\",1)\n",
    "MD = MD.drop(\"status\",1)\n",
    "MD = MD.drop(\"title\",1)\n",
    "\n",
    "RS = RS.drop('timestamp',1)\n",
    "RS = RS.drop('userId',1)"
   ]
  },
  {
   "cell_type": "code",
   "execution_count": 11,
   "metadata": {
    "collapsed": true
   },
   "outputs": [],
   "source": [
    "#Juntar as colunas do dataframe RS com o dataframe MD"
   ]
  },
  {
   "cell_type": "code",
   "execution_count": null,
   "metadata": {},
   "outputs": [],
   "source": []
  },
  {
   "cell_type": "code",
   "execution_count": null,
   "metadata": {
    "collapsed": true
   },
   "outputs": [],
   "source": []
  }
 ],
 "metadata": {
  "kernelspec": {
   "display_name": "Python 3",
   "language": "python",
   "name": "python3"
  },
  "language_info": {
   "codemirror_mode": {
    "name": "ipython",
    "version": 3
   },
   "file_extension": ".py",
   "mimetype": "text/x-python",
   "name": "python",
   "nbconvert_exporter": "python",
   "pygments_lexer": "ipython3",
   "version": "3.6.1"
  }
 },
 "nbformat": 4,
 "nbformat_minor": 2
}
